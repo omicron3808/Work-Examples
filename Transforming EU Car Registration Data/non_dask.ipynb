{
 "cells": [
  {
   "cell_type": "code",
   "execution_count": null,
   "id": "399caf04",
   "metadata": {},
   "outputs": [],
   "source": [
    "import pandas as pd\n",
    "import numpy as np\n",
    "import dask.dataframe as dd"
   ]
  },
  {
   "cell_type": "code",
   "execution_count": null,
   "id": "65cebebe",
   "metadata": {},
   "outputs": [],
   "source": [
    "def work(year):\n",
    "    df = pd.read_csv(f'{year}.csv')\n",
    "    df = df[['Country', 'Ft']]\n",
    "    df['Ft'] = df['Ft'].apply(lambda x : str(x).lower().strip())\n",
    "    df = df[df['Ft'] != 'nan']\n",
    "    m = {'AT' : 'Austria', 'BE' : 'Belgium', 'BG' : 'Belgium', 'HR' : 'Croatia', 'CY' : 'Cyprus', \n",
    "         'CZ' : 'Czechia', 'DK' : 'Denmark', 'EE' : 'Estonia', 'FI' : 'Finland', 'FR' : 'France', \n",
    "         'DE' : 'Germany', 'GR' : 'Greece', 'HU' : 'Hungary', 'IE' : 'Ireland', 'IT' : 'Italy',\n",
    "         'LV' : 'Latvia', 'LT' : 'Lithuania', 'LU' : 'Luxembourg', 'MT' : 'Malta', 'NL' : 'Netherlands', \n",
    "         'PL' : 'Poland', 'PT' : 'Portugal', 'RO' : 'Romania', 'SK' : 'Slovakia', 'SI' : 'Slovenia', \n",
    "         'ES' : 'Spain', 'SE' : 'Sweden', 'IS': 'Iceland', 'NO' : 'Norway', 'GB': 'United Kingdom'}\n",
    "\n",
    "    Ft_replace = {'petrol/electric' : 'petrol-electric', 'hybrid/petrol/e' : 'petrol-electric', 'petrol phev' : 'petrol-electric', 'ng-biomethane':'ng', 'cng':'ng', 'diesel/electric':'diesel-electric','gnl':'ng'}\n",
    "    countries = list(m.values())\n",
    "    df['Country'] = df['Country'].replace(m)\n",
    "    df['Ft'] = df['Ft'].replace(Ft_replace)\n",
    "    new = df.groupby('Country')['Ft'].value_counts().to_frame().unstack().reset_index()\n",
    "    new.columns = [x[1] for x in new.columns.to_list()]\n",
    "    cols = new.columns.to_list()\n",
    "    cols[0] = 'Country'\n",
    "    new.columns = cols\n",
    "    missing = list(set(countries).difference(set(df['Country'])))\n",
    "    for i in missing:\n",
    "        new_r = new.iloc[0]\n",
    "\n",
    "        new_r = new_r.apply(lambda x : np.NaN)\n",
    "\n",
    "        new_r['Country'] = i\n",
    "\n",
    "        new_r = pd.DataFrame(new_r).transpose()\n",
    "\n",
    "        new = pd.concat([new, new_r],ignore_index = True)\n",
    "\n",
    "    new = new.sort_values('Country')\n",
    "    tot = pd.DataFrame(new.sum(axis=0)).transpose()\n",
    "    tot['Country'] = 'EU Total'\n",
    "    new = pd.concat([new, tot], ignore_index=True)\n",
    "\n",
    "    if 'other' in new.columns:\n",
    "        new = new.drop('other', axis=1)\n",
    "\n",
    "    if 'biodiesel' in new.columns:\n",
    "        new = new.drop('biodiesel', axis=1)\n",
    "\n",
    "    if 'unknown' in new.columns:\n",
    "        new = new.drop('unknown', axis=1)\n",
    "\n",
    "    if len(new) != 30:\n",
    "        raise Warning('Not the expected number of rows')\n",
    "    new.to_csv(f'{year}_new.csv', index = False)"
   ]
  }
 ],
 "metadata": {
  "kernelspec": {
   "display_name": "Python 3 (ipykernel)",
   "language": "python",
   "name": "python3"
  },
  "language_info": {
   "codemirror_mode": {
    "name": "ipython",
    "version": 3
   },
   "file_extension": ".py",
   "mimetype": "text/x-python",
   "name": "python",
   "nbconvert_exporter": "python",
   "pygments_lexer": "ipython3",
   "version": "3.10.11"
  }
 },
 "nbformat": 4,
 "nbformat_minor": 5
}
