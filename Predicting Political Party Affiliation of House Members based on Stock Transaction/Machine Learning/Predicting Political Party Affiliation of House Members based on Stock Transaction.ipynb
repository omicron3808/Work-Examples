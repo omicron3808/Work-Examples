{
 "cells": [
  {
   "cell_type": "markdown",
   "metadata": {},
   "source": [
    "# Predicting Political Party Affiliation of House Members based on Stock Transaction\n",
    "\n",
    "**Lucas Papaioannou**"
   ]
  },
  {
   "cell_type": "markdown",
   "metadata": {},
   "source": [
    "## Summary of Findings\n",
    "\n",
    "\n",
    "### Introduction\n",
    "The prediction problem my models will attempt to answer is \"Given a transaction's data what is the political party of the congressmember that did that transaction?\" \n",
    "\n",
    "This is a classification problem. Since I am only trying to classify only two classes this is a binary classification problem. \n",
    "\n",
    "The response variable of this model will be the party affiliation of the person who did the transaction. Since the dataset does not come with a column of party affiliation this would be a useful prediction tool if someone did not want to go through the effort of finding a dataset that has congressional districts and party affiliation. \n",
    "\n",
    "All the features that I train my models on will already be in the dataset at the time of prediction in a scenario like that I mentioned above. \n",
    "\n",
    "The metric I will use to evalutate my models is accuracy. In this prediction problem there are no adverse effects of false positives or false negatives so I only need to care about the percentage of correct predicitons. Because of this I chose accuracy over F1-score.\n",
    "\n",
    "In order to increase the usability of the data and make this prediction quesiton testable I did the same data cleaning procedure that I did in project 3.\n",
    "\n",
    "### Baseline Model\n",
    "In the baseline model the features I used were the type of transaction happening and the type of owner of the account that is doing the transaction, respectively. These two features corrospond to the 'type' and 'owner' columns, respectively.\n",
    "\n",
    "Both of these features are nominal so I used one-hot encoding using the OneHotEncoder from sklearn.\n",
    "\n",
    "To implement this BaseLine model I used a DecisionTreeClassifier from sklearn. I used a max depth of 4 for the DecisionTreeClassifier as there are a small amount of features and I did not want to overfit to the training data.\n",
    "\n",
    "To evaluate this model's ability to generalize on unseen data I tested it on a test set consisting of data the model has not seen. The accuracy of this model when tested on the test data is 64%. I consider this accuracy a good performance as if I used a naive model that just predicted what was the most common party in the dataset it would have an accuracy of 54.5%. Since this model achieves a higher accuracy than a naive model would it could be considered a good model.\n",
    "\n",
    "### Final Model\n",
    "\n",
    "I used the same features from the baseline model and added some more. The features I added were the Ticker of the stock in the transaction, the amount of money in the transaction, and if the transaction resulted in capital gains over 200 dollars. These features corrospond to the 'ticker','amount', and 'cap_gains_over_200_usd' columns, respectively. The ticker column is nominal so I used one-hot encoding on this column in the pipeline. The 'amount' and 'cap_gains_over_200_usd' columns are ordinal so I had to ordinal encode them. The 'cap_gains_over_200_usd' was already in a 1 or 0 format so I did not need to ordinal encode as it was essentially ordinally encoded already. But, I did implement a ordinal encoding on the 'amount' columns that transformed monetary ranges to discrete integers. \n",
    "\n",
    "These new features are good features to use as when I conducted EDA in project 3 and in the Baseline Model sections I noticed that there are disparities and sometimes big disparities in the categories of these features are grouped by 'party'. \n",
    "\n",
    "For this final model I decided to implement a RandomForestClassifier from sklearn. A RandomForestClassifier is made up of many DecisionTreeClassifers so in theory performance should be improved. To find the best possible parameters for this model I used a GridSearchCV from sklearn. The parameters that ended up performing the best for the RandomForestClassifer were 'criterion': 'gini', 'max_depth': 40,' min_samples_split': 30, and 'n_estimators': 40. \n",
    "\n",
    "To evaluate this model's ability to generalize on unseen data I tested it on a test set consisting of data the model has not seen. The accuracy of this model with the parameters described above when tested on the test data is 75.15% when tested on the test set. This is a significant improvement of accuracy compared to the baseline model which had an accuracy on a test set of 54.5%. \n",
    "\n",
    "### Fairness Analysis\n",
    "The question I will try to answer in this fairness analysis is 'does my model perform worse for small trades than it does for big trades?' For the purposes of this question I consider a trade small if it has an amount value of 2 or below and a trade big if it has an amount value that is above 2.\n",
    "\n",
    "Null Hypothesis: Our model is fair. Its precision for small trades and big trades are roughly the same, and any differences are due to random chance.\n",
    "\n",
    "Alternate Hypothesis: Our model is unfair. Its precision for small trades is lower than its precision for big trades.\n",
    "\n",
    "Based on these hypotheses I conducted a permutation test that resulted in a p-value of 0.0049. Based on this p-value the Null Hypothesis is rejected in favor of the alternate hypothesis. This test results supports the claim that this model is unfair and has different precisions for small trades and big trades."
   ]
  },
  {
   "cell_type": "markdown",
   "metadata": {},
   "source": [
    "## Code"
   ]
  },
  {
   "cell_type": "code",
   "execution_count": 1,
   "metadata": {},
   "outputs": [],
   "source": [
    "import matplotlib.pyplot as plt\n",
    "import numpy as np\n",
    "import os\n",
    "import pandas as pd\n",
    "import seaborn as sns\n",
    "%config InlineBackend.figure_format = 'retina'  # Higher resolution figures\n",
    "\n",
    "transactions = pd.read_csv('data/all_transactions.csv')\n",
    "house = pd.read_csv('data/us-house.csv')[['state_code','district','party']]\n",
    "\n",
    "#The below is the data cleaning I did in project 3\n",
    "\n",
    "#owner: '--' to np.NaN\n",
    "transactions['owner'] = transactions['owner'].replace('--',np.NaN)\n",
    "#ticker: '--' to np.NaN\n",
    "transactions['ticker'] = transactions['ticker'].replace('--',np.NaN)\n",
    "\n",
    "#disclosure_date to datestamp\n",
    "transactions['disclosure_date'] = pd.to_datetime(transactions['disclosure_date'])\n",
    "\n",
    "#Some of the transaction dates were incorrect and were causing errors when converting them to datetime so I had to go to the disclosure pdfs and correct them.\n",
    "#2314 0009-06-09 to 2021-07-06\n",
    "transactions['transaction_date'].replace('0009-06-09','2021-07-06', inplace=True)\n",
    "#4024 0021-08-02 to 2021-08-02\n",
    "transactions['transaction_date'].replace('0021-08-02','2021-08-02', inplace=True)\n",
    "#7599 20221-11-18 to 2021-11-18\n",
    "transactions['transaction_date'].replace('20221-11-18','2021-11-18', inplace=True)\n",
    "#10754 0021-06-22 to 2021-06-22\n",
    "transactions['transaction_date'].replace('0021-06-22','2021-06-22', inplace=True)\n",
    "#10755 0201-06-22 to 2021-06-22\n",
    "transactions['transaction_date'].replace('0201-06-22','2021-06-22', inplace=True)\n",
    "\n",
    "#transaction_date to datestamp\n",
    "transactions['transaction_date'] = pd.to_datetime(transactions['transaction_date'].str.split('-').apply(lambda x : '/'.join([x[1],x[2],x[0]])))\n",
    "\n",
    "#adding members' current party to transactions dataframe\n",
    "names = transactions['representative']\n",
    "\n",
    "#replace NaNs in district column to 0 to corrospond to naming methods used in transaction dataset \n",
    "house['district'] = house['district'].replace(np.NaN,0).astype('int64').astype('str')\n",
    "house['district'] = house['district'].apply(lambda x : x.rjust(2, '0'))\n",
    "district_code = house['state_code'] + house['district']\n",
    "house['district_code'] = district_code\n",
    "house = house[['district_code','party']]\n",
    "\n",
    "#House dataset I used did not have an entry for the Representative from DC so I had to add it myself\n",
    "house = pd.concat([house,pd.DataFrame({'district_code':'DC00','party':'democrat'}, index = [435])])\n",
    "transactions = transactions.merge(house, 'left', left_on='district', right_on='district_code').drop('district_code', axis = 1)"
   ]
  },
  {
   "cell_type": "markdown",
   "metadata": {},
   "source": [
    "### Baseline Model"
   ]
  },
  {
   "cell_type": "code",
   "execution_count": 152,
   "metadata": {},
   "outputs": [
    {
     "data": {
      "text/plain": [
       "Pipeline(steps=[('Pre-Proc',\n",
       "                 ColumnTransformer(remainder='passthrough',\n",
       "                                   transformers=[('One-Hot',\n",
       "                                                  OneHotEncoder(drop='first',\n",
       "                                                                handle_unknown='ignore'),\n",
       "                                                  ['type', 'owner'])])),\n",
       "                ('TreeClassifier', DecisionTreeClassifier(max_depth=4))])"
      ]
     },
     "execution_count": 152,
     "metadata": {},
     "output_type": "execute_result"
    }
   ],
   "source": [
    "from sklearn.tree import DecisionTreeClassifier\n",
    "from sklearn.model_selection import train_test_split\n",
    "from sklearn.preprocessing import FunctionTransformer\n",
    "from sklearn.preprocessing import OneHotEncoder\n",
    "from sklearn.pipeline import Pipeline\n",
    "from sklearn.compose import ColumnTransformer\n",
    "#features to use:\n",
    "#type\n",
    "#owner\n",
    "#ticker\n",
    "#cap_gains_over_200_usd\n",
    "\n",
    "#EDA to see if there are relationships between variables so I can get a good idea of what columns to use as features\n",
    "transactions[['type','party']].pivot_table(index = 'party',columns = 'type', aggfunc = 'size')\n",
    "transactions[['owner','party']].pivot_table(index = 'party',columns = 'owner', aggfunc = 'size')\n",
    "transactions[['cap_gains_over_200_usd','party']].pivot_table(index = 'party',columns = 'cap_gains_over_200_usd', aggfunc = 'size')\n",
    "\n",
    "needed_cols = ['type','owner']\n",
    "\n",
    "#Setting up a pre-processor that implements one-hot encoding\n",
    "pre_proc = ColumnTransformer([\n",
    "    ('One-Hot', OneHotEncoder(drop='first',handle_unknown='ignore'), ['type','owner'])\n",
    "], remainder='passthrough')\n",
    "\n",
    "#Splitting data into train and test sets\n",
    "X_train, X_test, y_train, y_test = train_test_split(transactions[needed_cols], transactions['party'], test_size=0.25)\n",
    "\n",
    "#Creating pipeline that implements pre-processing from above and a DecisionTreeClassifier\n",
    "pl = Pipeline([\n",
    "    ('Pre-Proc', pre_proc),\n",
    "    ('TreeClassifier', DecisionTreeClassifier(max_depth=4))\n",
    "])\n",
    "\n",
    "pl.fit(X_train, y_train)\n"
   ]
  },
  {
   "cell_type": "code",
   "execution_count": 158,
   "metadata": {},
   "outputs": [
    {
     "data": {
      "text/html": [
       "<div>\n",
       "<style scoped>\n",
       "    .dataframe tbody tr th:only-of-type {\n",
       "        vertical-align: middle;\n",
       "    }\n",
       "\n",
       "    .dataframe tbody tr th {\n",
       "        vertical-align: top;\n",
       "    }\n",
       "\n",
       "    .dataframe thead th {\n",
       "        text-align: right;\n",
       "    }\n",
       "</style>\n",
       "<table border=\"1\" class=\"dataframe\">\n",
       "  <thead>\n",
       "    <tr style=\"text-align: right;\">\n",
       "      <th></th>\n",
       "      <th>party</th>\n",
       "    </tr>\n",
       "  </thead>\n",
       "  <tbody>\n",
       "    <tr>\n",
       "      <th>democrat</th>\n",
       "      <td>0.545314</td>\n",
       "    </tr>\n",
       "    <tr>\n",
       "      <th>republican</th>\n",
       "      <td>0.454686</td>\n",
       "    </tr>\n",
       "  </tbody>\n",
       "</table>\n",
       "</div>"
      ],
      "text/plain": [
       "               party\n",
       "democrat    0.545314\n",
       "republican  0.454686"
      ]
     },
     "execution_count": 158,
     "metadata": {},
     "output_type": "execute_result"
    }
   ],
   "source": [
    "#Proportions party affiliations in transaction dataset\n",
    "parties = transactions['party'].value_counts()\n",
    "(parties/parties.sum()).to_frame()"
   ]
  },
  {
   "cell_type": "code",
   "execution_count": 153,
   "metadata": {},
   "outputs": [
    {
     "data": {
      "text/plain": [
       "0.6403361344537815"
      ]
     },
     "execution_count": 153,
     "metadata": {},
     "output_type": "execute_result"
    }
   ],
   "source": [
    "#Accuracy on test set\n",
    "(pl.predict(X_test) == y_test).mean()"
   ]
  },
  {
   "cell_type": "markdown",
   "metadata": {},
   "source": [
    "### Final Model"
   ]
  },
  {
   "cell_type": "code",
   "execution_count": 164,
   "metadata": {
    "scrolled": true
   },
   "outputs": [
    {
     "data": {
      "text/plain": [
       "GridSearchCV(estimator=Pipeline(steps=[('Pre-proc',\n",
       "                                        ColumnTransformer(remainder='passthrough',\n",
       "                                                          transformers=[('One-Hot',\n",
       "                                                                         OneHotEncoder(drop='first',\n",
       "                                                                                       handle_unknown='ignore'),\n",
       "                                                                         ['owner',\n",
       "                                                                          'ticker',\n",
       "                                                                          'type'])])),\n",
       "                                       ('RandomTree',\n",
       "                                        RandomForestClassifier(max_depth=10,\n",
       "                                                               n_estimators=4))]),\n",
       "             param_grid={'RandomTree__criterion': ['gini', 'entropy'],\n",
       "                         'RandomTree__max_depth': [25, 30, 35, 40],\n",
       "                         'RandomTree__min_samples_split': [20, 25, 30, 35, 40],\n",
       "                         'RandomTree__n_estimators': [40, 50]})"
      ]
     },
     "execution_count": 164,
     "metadata": {},
     "output_type": "execute_result"
    }
   ],
   "source": [
    "from sklearn.model_selection import GridSearchCV\n",
    "from sklearn.ensemble import RandomForestClassifier\n",
    "import warnings\n",
    "warnings.filterwarnings(\"ignore\", category=UserWarning)\n",
    "\n",
    "#Hyperparameters for gridsearch\n",
    "hyperparameters = {\n",
    "    'RandomTree__max_depth': [25,30,35,40], \n",
    "    'RandomTree__min_samples_split': [20, 25, 30, 35, 40],\n",
    "    'RandomTree__criterion': ['gini', 'entropy'],\n",
    "    'RandomTree__n_estimators' : [40,50]\n",
    "}\n",
    "\n",
    "#Need to condense 'amount' column\n",
    "ams = ['$1,000,001 - $5,000,000','$1,000,000 +', '$5,000,001 - $25,000,000','$1,000,000 - $5,000,000']\n",
    "asd = transactions[transactions['amount'].apply(lambda x : x in ams)]\n",
    "asd[['amount','party']].pivot_table(index = 'party',columns = 'amount', aggfunc = 'size')\n",
    "transactions['amount'].value_counts()\n",
    "#$1,000,000 + to $1,000,001 - $5,000,000\n",
    "#$1,000 - $15,000 to $1,001 - $15,000\n",
    "#$15,000 - $50,000 to $15,001 - $50,000\n",
    "#$1,000,000 - $5,000,000 to $1,000,001 - $5,000,000\n",
    "replace_dict = {'$1,000,000 +': '$1,000,001 - $5,000,000','$1,000 - $15,000':'$1,001 - $15,000','$15,000 - $50,000':'$15,001 - $50,000','$1,000,000 - $5,000,000':'$1,000,001 - $5,000,000'}\n",
    "cond_ams = transactions['amount']\n",
    "transactions['amount'] = cond_ams.apply(lambda x : x.replace(x, replace_dict[x]) if x in replace_dict else x)\n",
    "\n",
    "#ordinal encoding 'amount' column\n",
    "ordinal_enc = dict()\n",
    "#ordinal_enc[]\n",
    "ordinal_enc['$1,001 -'] = 1\n",
    "ordinal_enc['$1,001 - $15,000'] = 2\n",
    "ordinal_enc['$15,001 - $50,000'] = 3\n",
    "ordinal_enc['$50,001 - $100,000'] = 4\n",
    "ordinal_enc['$100,001 - $250,000'] = 5\n",
    "ordinal_enc['$250,001 - $500,000'] = 6\n",
    "ordinal_enc['$500,001 - $1,000,000'] = 7\n",
    "ordinal_enc['$1,000,001 - $5,000,000'] = 8\n",
    "ordinal_enc['$5,000,001 - $25,000,000'] = 9\n",
    "ordinal_enc['$50,000,000 +'] = 10\n",
    "transactions['amount'] = transactions['amount'].replace(ordinal_enc)\n",
    "transactions\n",
    "\n",
    "needed_cols = ['owner','ticker','type','amount','cap_gains_over_200_usd']\n",
    "\n",
    "#Pre-processing using a column transformer\n",
    "imp_pre_proc = ColumnTransformer([\n",
    "    ('One-Hot', OneHotEncoder(drop = 'first', handle_unknown='ignore'), ['owner','ticker','type'])\n",
    "],remainder='passthrough')\n",
    "\n",
    "#Pipeline using pre-processing from above and a RandomTreeClassifier\n",
    "imp_pl = Pipeline([\n",
    "    ('Pre-proc', imp_pre_proc),\n",
    "    ('RandomTree', RandomForestClassifier(max_depth=10, n_estimators =4))\n",
    "])\n",
    "\n",
    "#Split data into train and test sets\n",
    "X_train, X_test, y_train, y_test = train_test_split(transactions[needed_cols], transactions['party'], test_size=0.25)\n",
    "\n",
    "#Using GridSearchCV to find the best parameters for the improved pipeline\n",
    "grids = GridSearchCV(imp_pl, param_grid = hyperparameters)\n",
    "grids.fit(X_train, y_train)"
   ]
  },
  {
   "cell_type": "code",
   "execution_count": 165,
   "metadata": {},
   "outputs": [
    {
     "data": {
      "text/plain": [
       "0.7515406162464986"
      ]
     },
     "execution_count": 165,
     "metadata": {},
     "output_type": "execute_result"
    }
   ],
   "source": [
    "#Accuracy on the test set\n",
    "(grids.predict(X_test) == y_test).mean()"
   ]
  },
  {
   "cell_type": "code",
   "execution_count": 166,
   "metadata": {},
   "outputs": [
    {
     "data": {
      "text/plain": [
       "{'RandomTree__criterion': 'gini',\n",
       " 'RandomTree__max_depth': 40,\n",
       " 'RandomTree__min_samples_split': 30,\n",
       " 'RandomTree__n_estimators': 40}"
      ]
     },
     "execution_count": 166,
     "metadata": {},
     "output_type": "execute_result"
    }
   ],
   "source": [
    "#Best Params\n",
    "grids.best_params_"
   ]
  },
  {
   "cell_type": "markdown",
   "metadata": {},
   "source": [
    "### Fairness Analysis"
   ]
  },
  {
   "cell_type": "code",
   "execution_count": 126,
   "metadata": {},
   "outputs": [
    {
     "data": {
      "image/png": "[encoded data removed]",
      "text/plain": [
       "<Figure size 432x288 with 1 Axes>"
      ]
     },
     "metadata": {
      "image/png": {
       "height": 280,
       "width": 372
      },
      "needs_background": "light"
     },
     "output_type": "display_data"
    }
   ],
   "source": [
    "#Big trader (amount >= 3) vs small trader (amount <= 2)\n",
    "from sklearn.preprocessing import Binarizer\n",
    "from sklearn import metrics\n",
    "\n",
    "#Binarizing the 'amount' column\n",
    "b = Binarizer(threshold=2)\n",
    "results = X_test.copy()\n",
    "preds = grids.predict(X_test)\n",
    "results['prediction'] = preds\n",
    "results['party'] = y_test\n",
    "\n",
    "#Need to binarize 'prediction' and 'party' columns to do analysis\n",
    "#Democrat = 0/Negative, Republican =  1/Positive\n",
    "\n",
    "results['prediction'] = results['prediction'].replace({'democrat':0,'republican':1})\n",
    "results['party'] = results['party'].replace({'democrat':0,'republican':1})\n",
    "results['is_big_trade'] = b.transform(results[['amount']])\n",
    "results['is_big_trade'] = results['is_big_trade'].replace({1:'big_trade',0:'small_trade'})\n",
    "\n",
    "(\n",
    "    results\n",
    "    .groupby('amount')\n",
    "    .apply(lambda x : 1 - metrics.recall_score(x['party'], x['prediction']))\n",
    "    .plot(kind = 'bar', title='False Negative Rate by Amount')\n",
    ");\n",
    "\n"
   ]
  },
  {
   "cell_type": "code",
   "execution_count": 121,
   "metadata": {},
   "outputs": [
    {
     "data": {
      "text/html": [
       "<div>\n",
       "<style scoped>\n",
       "    .dataframe tbody tr th:only-of-type {\n",
       "        vertical-align: middle;\n",
       "    }\n",
       "\n",
       "    .dataframe tbody tr th {\n",
       "        vertical-align: top;\n",
       "    }\n",
       "\n",
       "    .dataframe thead th {\n",
       "        text-align: right;\n",
       "    }\n",
       "</style>\n",
       "<table border=\"1\" class=\"dataframe\">\n",
       "  <thead>\n",
       "    <tr style=\"text-align: right;\">\n",
       "      <th></th>\n",
       "      <th>prediction</th>\n",
       "    </tr>\n",
       "    <tr>\n",
       "      <th>is_big_trade</th>\n",
       "      <th></th>\n",
       "    </tr>\n",
       "  </thead>\n",
       "  <tbody>\n",
       "    <tr>\n",
       "      <th>big_trade</th>\n",
       "      <td>0.70099</td>\n",
       "    </tr>\n",
       "    <tr>\n",
       "      <th>small_trade</th>\n",
       "      <td>0.40000</td>\n",
       "    </tr>\n",
       "  </tbody>\n",
       "</table>\n",
       "</div>"
      ],
      "text/plain": [
       "              prediction\n",
       "is_big_trade            \n",
       "big_trade        0.70099\n",
       "small_trade      0.40000"
      ]
     },
     "execution_count": 121,
     "metadata": {},
     "output_type": "execute_result"
    }
   ],
   "source": [
    "results.groupby('is_big_trade')['prediction'].mean().to_frame()\n",
    "#This model does not achieve Demographic parity"
   ]
  },
  {
   "cell_type": "code",
   "execution_count": 123,
   "metadata": {},
   "outputs": [
    {
     "name": "stdout",
     "output_type": "stream",
     "text": [
      "              accuracy\n",
      "is_big_trade          \n",
      "big_trade     0.800990\n",
      "small_trade   0.721875\n",
      "0.0049\n"
     ]
    },
    {
     "data": {
      "image/png": "[encoded data removed]",
      "text/plain": [
       "<Figure size 1080x540 with 1 Axes>"
      ]
     },
     "metadata": {
      "image/png": {
       "height": 454,
       "width": 884
      },
      "needs_background": "light"
     },
     "output_type": "display_data"
    }
   ],
   "source": [
    "print(\n",
    "    results\n",
    "    .groupby('is_big_trade')\n",
    "    .apply(lambda x: metrics.accuracy_score(x['party'], x['prediction']))\n",
    "    .rename('accuracy')\n",
    "    .to_frame()\n",
    ")\n",
    "\n",
    "#Getting observed accuracy\n",
    "obs_acc = results.groupby('is_big_trade').apply(lambda x: metrics.accuracy_score(x['party'], x['prediction'])).diff().iloc[-1]\n",
    "\n",
    "\n",
    "#Conductin permutation test\n",
    "diffs = []\n",
    "for _ in range(10000):\n",
    "    a = (\n",
    "        results[['is_big_trade', 'prediction', 'party']]\n",
    "        .assign(is_big_trade=results.is_big_trade.sample(frac=1.0, replace=False).reset_index(drop=True))\n",
    "        .groupby('is_big_trade')\n",
    "        .apply(lambda x: metrics.accuracy_score(x['party'], x['prediction']))\n",
    "        .diff()\n",
    "        .iloc[-1]\n",
    "    )\n",
    "    \n",
    "    diffs.append(a)\n",
    "plt.figure(figsize=(15, 7.5))\n",
    "pd.Series(diffs).plot(kind='hist', ec='w', density=True, bins=15, title='Difference in Accuracy (Small Trade - Big Trade)')\n",
    "plt.axvline(x=obs_acc, color='red', label='observed difference in accuracy')\n",
    "plt.legend(loc='upper left');\n",
    "print((obs_acc > diffs).mean())\n",
    "#Despite being a 7.9% difference in accuracy this is a significant difference based on the permutation test\n",
    "#This model likely does not have accuracy parity.\n",
    "#P-value of 0.0049 is below level of significance which is 0.01"
   ]
  }
 ],
 "metadata": {
  "kernelspec": {
   "display_name": "Python 3 (ipykernel)",
   "language": "python",
   "name": "python3"
  },
  "language_info": {
   "codemirror_mode": {
    "name": "ipython",
    "version": 3
   },
   "file_extension": ".py",
   "mimetype": "text/x-python",
   "name": "python",
   "nbconvert_exporter": "python",
   "pygments_lexer": "ipython3",
   "version": "3.9.2"
  }
 },
 "nbformat": 4,
 "nbformat_minor": 2
}
