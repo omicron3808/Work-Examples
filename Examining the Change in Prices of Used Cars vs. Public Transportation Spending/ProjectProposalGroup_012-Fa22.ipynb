{
  "cells": [
    {
      "cell_type": "markdown",
      "metadata": {
        "id": "7AXdLDEsf8EI"
      },
      "source": [
        "# COGS 108 - Final Project Proposal"
      ]
    },
    {
      "cell_type": "markdown",
      "metadata": {
        "id": "q5_iBMFKf8EN"
      },
      "source": [
        "# Names\n",
        "\n",
        "- Alex Kuang\n",
        "- Lucas Papaioannou\n",
        "- Ryan Harsono\n",
        "- Bailey Ho\n",
        "- Michael Maytesyan"
      ]
    },
    {
      "cell_type": "markdown",
      "metadata": {
        "id": "pnLDD_eYf8EN"
      },
      "source": [
        "# Research Question"
      ]
    },
    {
      "cell_type": "markdown",
      "metadata": {
        "id": "-FfAPfG2f8EO"
      },
      "source": [
        "-  Include a specific, clear data science question.\n",
        "-  Make sure what you're measuring (variables) to answer the question is clear\n",
        "\n",
        "What is your research question? Include the specific question you're setting out to answer. This question should be specific, answerable with data, and clear. A general question with specific subquestions is permitted. (1-2 sentences)\n",
        "\n",
        "Is there a relationship between a state's public transit budget (measured by its annual Federal Transit Administration allocation) and the price of used cars within that state?\n",
        "\n"
      ]
    },
    {
      "cell_type": "markdown",
      "metadata": {
        "id": "JpMWSbu1f8EO"
      },
      "source": [
        "## Background and Prior Work (Mike)"
      ]
    },
    {
      "cell_type": "markdown",
      "metadata": {
        "id": "h8yYApggf8EP"
      },
      "source": [
        "\n",
        "- Include a general introduction to your topic\n",
        "- Include explanation of what work has been done previously\n",
        "- Include citations or links to previous work\n",
        "\n",
        "This section will present the background and context of your topic and question in a few paragraphs. Include a general introduction to your topic and then describe what information you currently know about the topic after doing your initial research. Include references to other projects who have asked similar questions or approached similar problems. Explain what others have learned in their projects.\n",
        "\n",
        "Find some relevant prior work, and reference those sources, summarizing what each did and what they learned. Even if you think you have a totally novel question, find the most similar prior work that you can and discuss how it relates to your project.\n",
        "\n",
        "References can be research publications, but they need not be. Blogs, GitHub repositories, company websites, etc., are all viable references if they are relevant to your project. It must be clear which information comes from which references. (2-3 paragraphs, including at least 2 references)\n",
        "\n",
        " **Use inline citation through Markdown footnotes to specify which references support which statements** \n",
        "\n",
        "For example: After government genocide in the 20th century, real birds were replaced with surveillance drones designed to look just like birds[^lorenz]. \n",
        "Use a minimum of 2 or 3 citations, but we prefer more[^admonish]. You need enough to fully explain and back up important facts. \n",
        "\n",
        "[^lorenz]: Lorenz, T. (9 Dec 2021) Birds Aren’t Real, or Are They? Inside a Gen Z Conspiracy Theory. *The New York Times*. https://www.nytimes.com/2021/12/09/technology/birds-arent-real-gen-z-misinformation.html \n",
        "[^admonish]: Also refs should be important to the background, not some randomly chosen vaguely related stuff. Include a web link if possible in refs as above.\n",
        "\n",
        "\n",
        "Our topic is about the relationship between public transportation and used cars. The U.S. government plays a very important role in the transportation system by providing transportation infrastructure, and allocating funds to build, maintain, and operate the infrastructure system [^bureau]. The government expenditure on transportation has grown a decent amount year over year. \n",
        "\n",
        "The average American spends about 16% of their total budget on transportation. Over the past two years, the average cost of a new vehicle has gone up more than 25% [^D'Allegro]. This leaves most people in a dilemna on whether they should buy a new car or use public transportation. \n",
        "\n",
        "Even though there is minimal research done on this relationship there was some research done in 2020 regarding the quality of public transportation and its relationship to car ownership in Sweden. They used data from 21 Swedish counties from 1986 to 2015 and they concluded that there is an effect on car ownership in relation to the level of service in public transportation [^Holmgren]. They introduced the ideas of using car ownership as a way to measure usage of public transportation and how the presence of this affects the benefits of investing in better public transportation. \n",
        "\n",
        "[^bureau] Bureau of Transportation Statistics. (2021, December). Government Transportation Financial Statistics (GTFS). Government Transportation Financial Statistics (GTFS) | Bureau of Transportation Statistics. Retrieved October 24, 2022, from https://www.bts.gov/gtfs \n",
        "\n",
        "\n",
        "[^D'Allegro] D'Allegro, J. (2022, April 9). Thinking about buying a car? here's what auto experts say you need to know. CNBC. Retrieved October 24, 2022, from https://www.cnbc.com/2022/04/09/thinking-about-buying-a-car-heres-what-experts-say-you-need-to-know.html \n",
        "\n",
        "[^Holmgren] Holmgren, J. (2020, September 23). The effect of public transport quality on car ownership – a source of wider benefits? Research in Transportation Economics. Retrieved October 24, 2022, from https://www.sciencedirect.com/science/article/pii/S0739885920301554 \n"
      ]
    },
    {
      "cell_type": "markdown",
      "metadata": {
        "id": "wZbmNuZwf8EQ"
      },
      "source": [
        "# Hypothesis (Bailey)\n"
      ]
    },
    {
      "cell_type": "markdown",
      "metadata": {
        "id": "NBXCkfMxf8EQ"
      },
      "source": [
        "\n",
        "- Include your team's hypothesis\n",
        "- Ensure that this hypothesis is clear to readers\n",
        "- Explain why you think this will be the outcome (what was your thinking?)\n",
        "\n",
        "What is your main hypothesis/predictions about what the answer to your question is? Briefly explain your thinking. (2-3 sentences)"
      ]
    },
    {
      "cell_type": "markdown",
      "source": [
        "Will increased spending on public transportation in each state lead to a lower desire for personalized transportation (i.e. cars)?\n",
        "\n",
        "If there is more spending on public transportation, then there's more usage of public transportation, therefore cars wouldn't be used as much (no one is buying them) so there would be an increase in used car listings. If there's less allocation for public transportation, then there would be less listings of used cars (people are keeping their cars)."
      ],
      "metadata": {
        "id": "S3-60cYKg1Cb"
      }
    },
    {
      "cell_type": "markdown",
      "metadata": {
        "id": "jSdGyt7vf8EQ"
      },
      "source": [
        "# Data (Lucas)"
      ]
    },
    {
      "cell_type": "markdown",
      "metadata": {
        "id": "fKp1L1juf8ER"
      },
      "source": [
        "1. Explain what the **ideal** dataset you would want to answer this question. (This should include: What variables? How many observations? Who/what/how would these data be collected? How would these data be stored/organized?)\n",
        "1. Search for potential **real** datasets that could provide you with something useful for this project.  You do not have to find every piece of data you will use, but you do need to have demonstrated some idea that (a) this data is gettable and (b) that this data may be different from what your ideal is"
      ]
    },
    {
      "cell_type": "markdown",
      "source": [
        "\n",
        "\n",
        "The ideal datasets for this question would be a dataset containing the car selling price, the state the car is selling in, and the car brand and a dataset containing some type of public transportation spending for every state. The dataset should have at least 1000 data points per state and 100,000 minimum in total. This data should ideally be collected by exporting it from sources such as Kaggle, state governments, or the US Federal Government. The data should be organized into tables or CSV and stored in our project’s GitHub repository,\n",
        "\n",
        "After searching, we were able to find a [dataset](https://www.kaggle.com/datasets/ananaymital/us-used-cars-dataset) on Kaggle containing data for used car listings containing prices, brands, and zip codes of the cars being sold. Since this dataset only has the zip code of the dealer selling the car we would have to find a dataset that correlates every US zipcode to its state. We have also found [another dataset](https://www.transit.dot.gov/funding/grants/fta-allocations-formula-and-discretionary-programs-state-fy-1998-2022-full-year) that details the Federal Transit Authority allocations per state. \n",
        "\n",
        "\n",
        "\n"
      ],
      "metadata": {
        "id": "bcCBFdx5hQYZ"
      }
    },
    {
      "cell_type": "markdown",
      "metadata": {
        "id": "LNpO-473f8ER"
      },
      "source": [
        "# Ethics & Privacy (Ryan)"
      ]
    },
    {
      "cell_type": "markdown",
      "metadata": {
        "id": "IzEQ84Nef8ER"
      },
      "source": [
        "- Thoughtful discussion of ethical concerns included\n",
        "- Ethical concerns consider the whole data science process (question asked, data collected, data being used, the bias in data, analysis, post-analysis, etc.)\n",
        "- How your group handled bias/ethical concerns clearly described\n",
        "\n",
        "Acknowledge and address any ethics & privacy related issues of your question(s), proposed dataset(s), and/or analyses. Use the information provided in lecture to guide your group discussion and thinking. If you need further guidance, check out [Deon's Ethics Checklist](http://deon.drivendata.org/#data-science-ethics-checklist). In particular:\n",
        "\n",
        "- Are there any biases/privacy/terms of use issues with the data you propsed?\n",
        "- Are there potential biases in your dataset(s), in terms of who it composes, and how it was collected, that may be problematic in terms of it allowing for equitable analysis? (For example, does your data exclude particular populations, or is it likely to reflect particular human biases in a way that could be a problem?)\n",
        "- How will you set out to detect these specific biases before, during, and after/when communicating your analysis?\n",
        "- Are there any other issues related to your topic area, data, and/or analyses that are potentially problematic in terms of data privacy and equitable impact?\n",
        "- How will you handle issues you identified?\n",
        "\n",
        "In terms of the ethics and privacy of the collection methods used by our chosen datasets, we believe that the data is unbiased and publicly available. The dataset we use to obtain information about the availability of used cars, which is openly available on the data science and machine learning platform Kaggle, was directly sourced from CarGurus, a vehicle marketplace website. While our dataset contains many identifying features of the car we examine, such feature information is already available to public viewers on the CarGurus marketplace, and none of the obtained data includes personal information of either the buyers or sellers. Additionally, the dataset we use for each state's annual allocation from the Federal Transit Administration is sourced from the U.S. Department of Transportation website. \n",
        "\n",
        "One limitation imposed by the dataset based on the CarGurus listings is the reality that there are a multitude of different online vehicle marketplace platforms, meaning that our used cars database does not completely encompass the nationwide used car market. However, we believe that the dataset we use is able to represent and generalize the broad market moderately well due to the fact that CarGurus as a company is publicly listed, signifying that it is a top competitor in the used car industry. "
      ]
    },
    {
      "cell_type": "markdown",
      "metadata": {
        "id": "7Vyg2YzYf8ES"
      },
      "source": [
        "# Team Expectations (Alex)"
      ]
    },
    {
      "cell_type": "markdown",
      "metadata": {
        "id": "jvS-VG3rf8ES"
      },
      "source": [
        "\n",
        "Read over the [COGS108 Team Policies](https://github.com/COGS108/Projects/blob/master/COGS108_TeamPolicies.md) individually. Then, include your group’s expectations of one another for successful completion of your COGS108 project below. Discuss and agree on what all of your expectations are. Discuss how your team will communicate throughout the quarter and consider how you will communicate respectfully should conflicts arise. By including each member’s name above and by adding their name to the submission, you are indicating that you have read the COGS108 Team Policies, accept your team’s expectations below, and have every intention to fulfill them. These expectations are for your team’s use and benefit — they won’t be graded for their details.\n",
        "\n",
        "We decided that we would mainly use Discord as a primary means of communication, seeing as we formed our group using the app. We fully understand that as (semi)-responsible adults, it would be our jobs ot maintain good etiquette amongst us and attempt to resolve disagreements before bringing them forward to class faculty. Our main meeting time will be around once a week, though we are flexible to changing it around seeing as schedules are variable. Lastly, we'll all work together on the project and cross-check each other's work--this is a collaborative effort and we will carry it out so."
      ]
    },
    {
      "cell_type": "markdown",
      "metadata": {
        "id": "rMdLcQIhf8ES"
      },
      "source": [
        "# Project Timeline Proposal"
      ]
    },
    {
      "cell_type": "markdown",
      "metadata": {
        "id": "UV_sMswif8ES"
      },
      "source": [
        "Specify your team's specific project timeline. An example timeline has been provided. Changes the dates, times, names, and details to fit your group's plan.\n",
        "\n",
        "If you think you will need any special resources or training outside what we have covered in COGS 108 to solve your problem, then your proposal should state these clearly. For example, if you have selected a problem that involves implementing multiple neural networks, please state this so we can make sure you know what you’re doing and so we can point you to resources you will need to implement your project. Note that you are not required to use outside methods.\n",
        "\n",
        "\n",
        "\n",
        "| Meeting Date  | Meeting Time| Completed Before Meeting  | Discuss at Meeting |\n",
        "|---|---|---|---|\n",
        "| 10/30  |  1 PM | Read & Think about COGS 108 expectations; brainstorm topics/questions  | Determine best form of communication; Discuss and decide on final project topic; discuss hypothesis; begin background research | \n",
        "| 11/6  |  2 PM |  Do background research on topic | Discuss ideal dataset(s) and ethics; draft project proposal | \n",
        "| 11/13  | 2 PM  | Edit, finalize, and submit proposal; Search for datasets  | Discuss Wrangling and possible analytical approaches; Assign group members to lead each specific part   |\n",
        "| 11/20  | 2 PM  | Import & Wrangle Data; | Review/Edit wrangling/EDA; Discuss Analysis Plan   |\n",
        "| 11/26  | 2 PM  | Finalize wrangling/EDA; Begin Analysis | Discuss/edit Analysis; Complete project check-in |\n",
        "| 11/27  | 2 PM  | Complete analysis; Draft results/conclusion/discussion| Discuss/edit full project |\n",
        "| 12/4  | Before 11:59 PM  | NA | Turn in Final Project & Group Project Surveys |"
      ]
    },
    {
      "cell_type": "code",
      "execution_count": null,
      "metadata": {
        "id": "Or1jIOMjf8ET"
      },
      "outputs": [],
      "source": []
    }
  ],
  "metadata": {
    "kernelspec": {
      "display_name": "Python 3",
      "language": "python",
      "name": "python3"
    },
    "language_info": {
      "codemirror_mode": {
        "name": "ipython",
        "version": 3
      },
      "file_extension": ".py",
      "mimetype": "text/x-python",
      "name": "python",
      "nbconvert_exporter": "python",
      "pygments_lexer": "ipython3",
      "version": "3.8.8"
    },
    "colab": {
      "provenance": []
    }
  },
  "nbformat": 4,
  "nbformat_minor": 0
}