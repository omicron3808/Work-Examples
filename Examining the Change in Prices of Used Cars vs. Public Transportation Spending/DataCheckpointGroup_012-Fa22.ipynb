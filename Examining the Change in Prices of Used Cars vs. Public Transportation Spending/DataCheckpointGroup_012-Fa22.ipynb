{
 "cells": [
  {
   "cell_type": "markdown",
   "metadata": {
    "id": "wBzDg65XQXzz"
   },
   "source": [
    "# COGS 108 - Data Checkpoint"
   ]
  },
  {
   "cell_type": "markdown",
   "metadata": {
    "id": "e6IhFhIFQXz0"
   },
   "source": [
    "# Names\n",
    "\n",
    "- Alex Kuang\n",
    "- Lucas Papaioannou\n",
    "- Ryan Harsono\n",
    "- Bailey Ho\n",
    "- Michael Maytesyan"
   ]
  },
  {
   "cell_type": "markdown",
   "metadata": {
    "id": "rxgRLJkPQXz1"
   },
   "source": [
    "<a id='research_question'></a>\n",
    "# Research Question"
   ]
  },
  {
   "cell_type": "markdown",
   "metadata": {
    "id": "frv32-0yQXz1"
   },
   "source": [
    "How does the change in a state’s public transportation spending affect the sales of different brands of used cars?"
   ]
  },
  {
   "cell_type": "markdown",
   "metadata": {
    "id": "FqOJHDjUQXz1"
   },
   "source": [
    "# Dataset(s)"
   ]
  },
  {
   "cell_type": "markdown",
   "metadata": {
    "id": "-8XNb0MoQXz1"
   },
   "source": [
    "**Dataset 1**\n",
    "- Dataset Name: US Used cars dataset\n",
    "- Link to the dataset: https://www.kaggle.com/datasets/ananaymital/us-used-cars-dataset\n",
    "- Number of observations: 3000000\n",
    "- Description: This dataset contains details of 3 million used cars in the United States. For each car (row), it contains details like body type and fuel economy.\n",
    "\n",
    "**Dataset 2**\n",
    "- Dataset Name: FTA Allocations for Formula and Discretionary Programs by State FY 1998-2022 Full Year\n",
    "- Link to the dataset: https://www.transit.dot.gov/funding/grants/fta-allocations-formula-and-discretionary-programs-state-fy-1998-2022-full-year\n",
    "- Number of observations: 55\n",
    "- Description: This dataset contains data of how much was allocated for each state, for each year from 1998 to 2022. Each column contains how much in dollars was allocated for what (ex: Metropolitan Planning, Transit Oriented Development) in each state.\n",
    "\n",
    "**Dataset 3**\n",
    "- Dataset Name: US Zipcodes to County State to FIPS Crosswalk\n",
    "- Link to the dataset: https://www.kaggle.com/datasets/danofer/zipcodes-county-fips-crosswalk\n",
    "- Number of observations: 52889\n",
    "- Description: This dataset contains correlations between Zipcodes and the state they belong to. For each row there is a Zipcode, a State value, and other values like county.\n",
    "\n",
    "We plan to combine Dataset 1 and Dataset 3 as dataset 1 has the zipcode of dealerships but not the states they are in. Since we are interested in states for our research question we would have to merge Dataset 3 into Dataset 1 so it could be aggregated by state. We plan to use Dataset 2 to see if there is a relationship between the % change in spending to the % change in prices for different brands of cars."
   ]
  },
  {
   "cell_type": "markdown",
   "metadata": {
    "id": "os1CxVGcQXz1"
   },
   "source": [
    "# Setup"
   ]
  },
  {
   "cell_type": "code",
   "execution_count": 2,
   "metadata": {
    "id": "LAoYZ47GQXz2"
   },
   "outputs": [
    {
     "name": "stderr",
     "output_type": "stream",
     "text": [
      "C:\\Users\\omicr\\AppData\\Local\\Temp\\ipykernel_86844\\1915416024.py:7: DtypeWarning: Columns (11) have mixed types. Specify dtype option on import or set low_memory=False.\n",
      "  cardf = pd.read_csv(r'.\\used_cars_data.csv', low_memory = True)\n"
     ]
    }
   ],
   "source": [
    "## YOUR CODE HERE\n",
    "import numpy as np\n",
    "import pandas as pd\n",
    "import seaborn as sns\n",
    "import matplotlib.pyplot as plt\n",
    "zipdf = pd.read_csv('.\\ZIP-COUNTY-FIPS_2017-06.csv')\n",
    "cardf = pd.read_csv(r'.\\used_cars_data.csv', low_memory = True)"
   ]
  },
  {
   "cell_type": "markdown",
   "metadata": {
    "id": "hEz3WufaQXz2"
   },
   "source": [
    "# Data Cleaning"
   ]
  },
  {
   "cell_type": "markdown",
   "metadata": {
    "id": "DU8JPjINQXz2"
   },
   "source": [
    "To begin, we first checked how much of each of the columns in our dataset had missing data, which is indicated by NaN or NA. We found that the column labeled \"franchise_make\", representing the different brands of vehicles, was missing data in approximately 19% of its rows, comprising a significant portion of the column data. Because one of our variables of interest in our research question is the brand of vehicles being sold, we dropped rows that have missing data in the \"franchise_make\" column. \n",
    "\n",
    "We then needed to examine if any zip codes in our reduced Used Cars dataset, smaller_cardf, did not appear in the dataset we use to associate US zip codes to each state, represented as zipdf. This was especially important because we are interested in state-specific data in our research goals. Both smaller_cardf and zipdf used a variety of data types to represent zip codes in their dataset such as integers and strings, so we further cleaned the data by standardizing all zip codes to be represented as strings. Additionally, some of the numerically lesser zip codes lacked 0 prefixes, which we addressed by using the zfill method so that each zip code is exactly 5 digits. As a result of both of these methods, we discovered a list of unrecognized zips that were not associated with any US state. We accordingly removed cars from our Used Cars dataset that corresponded with these unrecognized zips, so that our cleaned dataset could effectively track each car sale back to its state location."
   ]
  },
  {
   "cell_type": "code",
   "execution_count": 77,
   "metadata": {},
   "outputs": [
    {
     "data": {
      "text/html": [
       "<div>\n",
       "<style scoped>\n",
       "    .dataframe tbody tr th:only-of-type {\n",
       "        vertical-align: middle;\n",
       "    }\n",
       "\n",
       "    .dataframe tbody tr th {\n",
       "        vertical-align: top;\n",
       "    }\n",
       "\n",
       "    .dataframe thead th {\n",
       "        text-align: right;\n",
       "    }\n",
       "</style>\n",
       "<table border=\"1\" class=\"dataframe\">\n",
       "  <thead>\n",
       "    <tr style=\"text-align: right;\">\n",
       "      <th></th>\n",
       "      <th>vin</th>\n",
       "      <th>back_legroom</th>\n",
       "      <th>bed</th>\n",
       "      <th>bed_height</th>\n",
       "      <th>bed_length</th>\n",
       "      <th>body_type</th>\n",
       "      <th>cabin</th>\n",
       "      <th>city</th>\n",
       "      <th>city_fuel_economy</th>\n",
       "      <th>combine_fuel_economy</th>\n",
       "      <th>...</th>\n",
       "      <th>transmission</th>\n",
       "      <th>transmission_display</th>\n",
       "      <th>trimId</th>\n",
       "      <th>trim_name</th>\n",
       "      <th>vehicle_damage_category</th>\n",
       "      <th>wheel_system</th>\n",
       "      <th>wheel_system_display</th>\n",
       "      <th>wheelbase</th>\n",
       "      <th>width</th>\n",
       "      <th>year</th>\n",
       "    </tr>\n",
       "  </thead>\n",
       "  <tbody>\n",
       "    <tr>\n",
       "      <th>0</th>\n",
       "      <td>ZACNJABB5KPJ92081</td>\n",
       "      <td>35.1 in</td>\n",
       "      <td>NaN</td>\n",
       "      <td>NaN</td>\n",
       "      <td>NaN</td>\n",
       "      <td>SUV / Crossover</td>\n",
       "      <td>NaN</td>\n",
       "      <td>Bayamon</td>\n",
       "      <td>NaN</td>\n",
       "      <td>NaN</td>\n",
       "      <td>...</td>\n",
       "      <td>A</td>\n",
       "      <td>9-Speed Automatic Overdrive</td>\n",
       "      <td>t83804</td>\n",
       "      <td>Latitude FWD</td>\n",
       "      <td>NaN</td>\n",
       "      <td>FWD</td>\n",
       "      <td>Front-Wheel Drive</td>\n",
       "      <td>101.2 in</td>\n",
       "      <td>79.6 in</td>\n",
       "      <td>2019</td>\n",
       "    </tr>\n",
       "    <tr>\n",
       "      <th>1</th>\n",
       "      <td>SALCJ2FX1LH858117</td>\n",
       "      <td>38.1 in</td>\n",
       "      <td>NaN</td>\n",
       "      <td>NaN</td>\n",
       "      <td>NaN</td>\n",
       "      <td>SUV / Crossover</td>\n",
       "      <td>NaN</td>\n",
       "      <td>San Juan</td>\n",
       "      <td>NaN</td>\n",
       "      <td>NaN</td>\n",
       "      <td>...</td>\n",
       "      <td>A</td>\n",
       "      <td>9-Speed Automatic Overdrive</td>\n",
       "      <td>t86759</td>\n",
       "      <td>S AWD</td>\n",
       "      <td>NaN</td>\n",
       "      <td>AWD</td>\n",
       "      <td>All-Wheel Drive</td>\n",
       "      <td>107.9 in</td>\n",
       "      <td>85.6 in</td>\n",
       "      <td>2020</td>\n",
       "    </tr>\n",
       "    <tr>\n",
       "      <th>2</th>\n",
       "      <td>JF1VA2M67G9829723</td>\n",
       "      <td>35.4 in</td>\n",
       "      <td>NaN</td>\n",
       "      <td>NaN</td>\n",
       "      <td>NaN</td>\n",
       "      <td>Sedan</td>\n",
       "      <td>NaN</td>\n",
       "      <td>Guaynabo</td>\n",
       "      <td>17.0</td>\n",
       "      <td>NaN</td>\n",
       "      <td>...</td>\n",
       "      <td>M</td>\n",
       "      <td>6-Speed Manual</td>\n",
       "      <td>t58994</td>\n",
       "      <td>Base</td>\n",
       "      <td>NaN</td>\n",
       "      <td>AWD</td>\n",
       "      <td>All-Wheel Drive</td>\n",
       "      <td>104.3 in</td>\n",
       "      <td>78.9 in</td>\n",
       "      <td>2016</td>\n",
       "    </tr>\n",
       "    <tr>\n",
       "      <th>3</th>\n",
       "      <td>SALRR2RV0L2433391</td>\n",
       "      <td>37.6 in</td>\n",
       "      <td>NaN</td>\n",
       "      <td>NaN</td>\n",
       "      <td>NaN</td>\n",
       "      <td>SUV / Crossover</td>\n",
       "      <td>NaN</td>\n",
       "      <td>San Juan</td>\n",
       "      <td>NaN</td>\n",
       "      <td>NaN</td>\n",
       "      <td>...</td>\n",
       "      <td>A</td>\n",
       "      <td>8-Speed Automatic Overdrive</td>\n",
       "      <td>t86074</td>\n",
       "      <td>V6 HSE AWD</td>\n",
       "      <td>NaN</td>\n",
       "      <td>AWD</td>\n",
       "      <td>All-Wheel Drive</td>\n",
       "      <td>115 in</td>\n",
       "      <td>87.4 in</td>\n",
       "      <td>2020</td>\n",
       "    </tr>\n",
       "    <tr>\n",
       "      <th>4</th>\n",
       "      <td>SALCJ2FXXLH862327</td>\n",
       "      <td>38.1 in</td>\n",
       "      <td>NaN</td>\n",
       "      <td>NaN</td>\n",
       "      <td>NaN</td>\n",
       "      <td>SUV / Crossover</td>\n",
       "      <td>NaN</td>\n",
       "      <td>San Juan</td>\n",
       "      <td>NaN</td>\n",
       "      <td>NaN</td>\n",
       "      <td>...</td>\n",
       "      <td>A</td>\n",
       "      <td>9-Speed Automatic Overdrive</td>\n",
       "      <td>t86759</td>\n",
       "      <td>S AWD</td>\n",
       "      <td>NaN</td>\n",
       "      <td>AWD</td>\n",
       "      <td>All-Wheel Drive</td>\n",
       "      <td>107.9 in</td>\n",
       "      <td>85.6 in</td>\n",
       "      <td>2020</td>\n",
       "    </tr>\n",
       "  </tbody>\n",
       "</table>\n",
       "<p>5 rows × 66 columns</p>\n",
       "</div>"
      ],
      "text/plain": [
       "                 vin back_legroom  bed bed_height bed_length        body_type  \\\n",
       "0  ZACNJABB5KPJ92081      35.1 in  NaN        NaN        NaN  SUV / Crossover   \n",
       "1  SALCJ2FX1LH858117      38.1 in  NaN        NaN        NaN  SUV / Crossover   \n",
       "2  JF1VA2M67G9829723      35.4 in  NaN        NaN        NaN            Sedan   \n",
       "3  SALRR2RV0L2433391      37.6 in  NaN        NaN        NaN  SUV / Crossover   \n",
       "4  SALCJ2FXXLH862327      38.1 in  NaN        NaN        NaN  SUV / Crossover   \n",
       "\n",
       "  cabin      city  city_fuel_economy  combine_fuel_economy  ...  transmission  \\\n",
       "0   NaN   Bayamon                NaN                   NaN  ...             A   \n",
       "1   NaN  San Juan                NaN                   NaN  ...             A   \n",
       "2   NaN  Guaynabo               17.0                   NaN  ...             M   \n",
       "3   NaN  San Juan                NaN                   NaN  ...             A   \n",
       "4   NaN  San Juan                NaN                   NaN  ...             A   \n",
       "\n",
       "          transmission_display  trimId     trim_name  vehicle_damage_category  \\\n",
       "0  9-Speed Automatic Overdrive  t83804  Latitude FWD                      NaN   \n",
       "1  9-Speed Automatic Overdrive  t86759         S AWD                      NaN   \n",
       "2               6-Speed Manual  t58994          Base                      NaN   \n",
       "3  8-Speed Automatic Overdrive  t86074    V6 HSE AWD                      NaN   \n",
       "4  9-Speed Automatic Overdrive  t86759         S AWD                      NaN   \n",
       "\n",
       "  wheel_system wheel_system_display wheelbase    width  year  \n",
       "0          FWD    Front-Wheel Drive  101.2 in  79.6 in  2019  \n",
       "1          AWD      All-Wheel Drive  107.9 in  85.6 in  2020  \n",
       "2          AWD      All-Wheel Drive  104.3 in  78.9 in  2016  \n",
       "3          AWD      All-Wheel Drive    115 in  87.4 in  2020  \n",
       "4          AWD      All-Wheel Drive  107.9 in  85.6 in  2020  \n",
       "\n",
       "[5 rows x 66 columns]"
      ]
     },
     "execution_count": 77,
     "metadata": {},
     "output_type": "execute_result"
    }
   ],
   "source": [
    "# There are many columns currently in this dataset that we do not need. \n",
    "# To answer our research question and preform analysis we only need \n",
    "# 'dealer_zip', 'price', 'franchise_make', 'body_type', 'is_new', 'year', and 'listed_date'\n",
    "cardf.head()"
   ]
  },
  {
   "cell_type": "code",
   "execution_count": 78,
   "metadata": {
    "id": "HhaH3Zg-QXz3"
   },
   "outputs": [
    {
     "name": "stdout",
     "output_type": "stream",
     "text": [
      "dealer_zip        0.000000\n",
      "price             0.000000\n",
      "franchise_make    0.190876\n",
      "body_type         0.004514\n",
      "is_new            0.000000\n",
      "year              0.000000\n",
      "listed_date       0.000000\n",
      "dtype: float64\n"
     ]
    }
   ],
   "source": [
    "# Since we do not need all the columns of this df we just create another df that contains the columns we need.\n",
    "needed_cols = ['dealer_zip', 'price', 'franchise_make', 'body_type', 'is_new', 'year','listed_date']\n",
    "smaller_cardf = cardf[needed_cols]\n",
    "\n",
    "# checking how much of each column is NaN or NA\n",
    "print(smaller_cardf.isna().mean())\n",
    "# We can see that the \"franchise_make\" column has a sizeable percentage of missing data, around 19%. \n",
    "# Since we are interested in \"franchise_make\" for our research question we have to drop columns that have a missing franchise_make\n",
    "smaller_cardf = smaller_cardf[smaller_cardf.notna()['franchise_make']]"
   ]
  },
  {
   "cell_type": "code",
   "execution_count": 67,
   "metadata": {},
   "outputs": [
    {
     "name": "stdout",
     "output_type": "stream",
     "text": [
      "['96740-1631', '08816-4351', '14221-6032', '54221', '89520']\n"
     ]
    }
   ],
   "source": [
    "# We now need to see if any zips in the smaller_cardf are not in zipdf. \n",
    "# It is important that we check this as we are interested in the states for our research question\n",
    "# We need to convert the ZIP column in zipdf to strings so we can compare them the dealer_zip in smaller_cardf.\n",
    "zipdf[\"ZIP\"] = zipdf[\"ZIP\"].apply(lambda x: str(x))\n",
    "# We also need to do the same for smaller_cardf as some zips are ints and others are strings.\n",
    "smaller_cardf[\"dealer_zip\"] = smaller_cardf[\"dealer_zip\"].apply(lambda x: str(x))\n",
    "# Some of the zipcodes in zipdf and smaller_cardf are also lacking padding 0s in the front when they are less than 5 digits long.\n",
    "# We need to fix this by using the zfill method.\n",
    "zipdf[\"ZIP\"] = zipdf[\"ZIP\"].apply(lambda x: x.zfill(5))\n",
    "smaller_cardf[\"dealer_zip\"] = smaller_cardf[\"dealer_zip\"].apply(lambda x: x.zfill(5))\n",
    "# Now that the dfs have been standardized we can find the zips that are not in the zipdf dataset.\n",
    "zips = zipdf[\"ZIP\"].values\n",
    "\n",
    "car_zips = smaller_cardf['dealer_zip'].unique()\n",
    "\n",
    "unknown_zips = []\n",
    "\n",
    "for i in car_zips:\n",
    "    if i not in zips:\n",
    "        unknown_zips.append(i)\n",
    "        \n",
    "        \n",
    "# These are the zips that do not have a corrolating state. We need to filter these zips out of smaller_cardf.\n",
    "print(unknown_zips)\n",
    "smaller_cardf = smaller_cardf[smaller_cardf['dealer_zip'].isin(unknown_zips).apply(lambda x: not x)]"
   ]
  },
  {
   "cell_type": "code",
   "execution_count": 75,
   "metadata": {},
   "outputs": [
    {
     "data": {
      "text/html": [
       "<div>\n",
       "<style scoped>\n",
       "    .dataframe tbody tr th:only-of-type {\n",
       "        vertical-align: middle;\n",
       "    }\n",
       "\n",
       "    .dataframe tbody tr th {\n",
       "        vertical-align: top;\n",
       "    }\n",
       "\n",
       "    .dataframe thead th {\n",
       "        text-align: right;\n",
       "    }\n",
       "</style>\n",
       "<table border=\"1\" class=\"dataframe\">\n",
       "  <thead>\n",
       "    <tr style=\"text-align: right;\">\n",
       "      <th></th>\n",
       "      <th>dealer_zip</th>\n",
       "      <th>price</th>\n",
       "      <th>franchise_make</th>\n",
       "      <th>body_type</th>\n",
       "      <th>is_new</th>\n",
       "      <th>year</th>\n",
       "      <th>listed_date</th>\n",
       "    </tr>\n",
       "  </thead>\n",
       "  <tbody>\n",
       "    <tr>\n",
       "      <th>0</th>\n",
       "      <td>00960</td>\n",
       "      <td>23141.0</td>\n",
       "      <td>Jeep</td>\n",
       "      <td>SUV / Crossover</td>\n",
       "      <td>True</td>\n",
       "      <td>2019</td>\n",
       "      <td>2019-04-06</td>\n",
       "    </tr>\n",
       "    <tr>\n",
       "      <th>1</th>\n",
       "      <td>00922</td>\n",
       "      <td>46500.0</td>\n",
       "      <td>Land Rover</td>\n",
       "      <td>SUV / Crossover</td>\n",
       "      <td>True</td>\n",
       "      <td>2020</td>\n",
       "      <td>2020-02-15</td>\n",
       "    </tr>\n",
       "    <tr>\n",
       "      <th>2</th>\n",
       "      <td>00969</td>\n",
       "      <td>46995.0</td>\n",
       "      <td>FIAT</td>\n",
       "      <td>Sedan</td>\n",
       "      <td>False</td>\n",
       "      <td>2016</td>\n",
       "      <td>2017-04-25</td>\n",
       "    </tr>\n",
       "    <tr>\n",
       "      <th>3</th>\n",
       "      <td>00922</td>\n",
       "      <td>67430.0</td>\n",
       "      <td>Land Rover</td>\n",
       "      <td>SUV / Crossover</td>\n",
       "      <td>True</td>\n",
       "      <td>2020</td>\n",
       "      <td>2020-02-26</td>\n",
       "    </tr>\n",
       "    <tr>\n",
       "      <th>4</th>\n",
       "      <td>00922</td>\n",
       "      <td>48880.0</td>\n",
       "      <td>Land Rover</td>\n",
       "      <td>SUV / Crossover</td>\n",
       "      <td>True</td>\n",
       "      <td>2020</td>\n",
       "      <td>2020-04-25</td>\n",
       "    </tr>\n",
       "    <tr>\n",
       "      <th>...</th>\n",
       "      <td>...</td>\n",
       "      <td>...</td>\n",
       "      <td>...</td>\n",
       "      <td>...</td>\n",
       "      <td>...</td>\n",
       "      <td>...</td>\n",
       "      <td>...</td>\n",
       "    </tr>\n",
       "    <tr>\n",
       "      <th>3000032</th>\n",
       "      <td>94559</td>\n",
       "      <td>22901.0</td>\n",
       "      <td>Nissan</td>\n",
       "      <td>Van</td>\n",
       "      <td>True</td>\n",
       "      <td>2020</td>\n",
       "      <td>2020-07-12</td>\n",
       "    </tr>\n",
       "    <tr>\n",
       "      <th>3000034</th>\n",
       "      <td>95482</td>\n",
       "      <td>40993.0</td>\n",
       "      <td>Ford</td>\n",
       "      <td>Pickup Truck</td>\n",
       "      <td>False</td>\n",
       "      <td>2017</td>\n",
       "      <td>2020-06-15</td>\n",
       "    </tr>\n",
       "    <tr>\n",
       "      <th>3000036</th>\n",
       "      <td>94591</td>\n",
       "      <td>36490.0</td>\n",
       "      <td>Chevrolet</td>\n",
       "      <td>SUV / Crossover</td>\n",
       "      <td>True</td>\n",
       "      <td>2020</td>\n",
       "      <td>2020-03-25</td>\n",
       "    </tr>\n",
       "    <tr>\n",
       "      <th>3000037</th>\n",
       "      <td>94559</td>\n",
       "      <td>12990.0</td>\n",
       "      <td>Jeep</td>\n",
       "      <td>Sedan</td>\n",
       "      <td>False</td>\n",
       "      <td>2016</td>\n",
       "      <td>2020-06-13</td>\n",
       "    </tr>\n",
       "    <tr>\n",
       "      <th>3000039</th>\n",
       "      <td>94559</td>\n",
       "      <td>19900.0</td>\n",
       "      <td>Nissan</td>\n",
       "      <td>SUV / Crossover</td>\n",
       "      <td>False</td>\n",
       "      <td>2017</td>\n",
       "      <td>2020-08-26</td>\n",
       "    </tr>\n",
       "  </tbody>\n",
       "</table>\n",
       "<p>2426855 rows × 7 columns</p>\n",
       "</div>"
      ],
      "text/plain": [
       "        dealer_zip    price franchise_make        body_type  is_new  year  \\\n",
       "0            00960  23141.0           Jeep  SUV / Crossover    True  2019   \n",
       "1            00922  46500.0     Land Rover  SUV / Crossover    True  2020   \n",
       "2            00969  46995.0           FIAT            Sedan   False  2016   \n",
       "3            00922  67430.0     Land Rover  SUV / Crossover    True  2020   \n",
       "4            00922  48880.0     Land Rover  SUV / Crossover    True  2020   \n",
       "...            ...      ...            ...              ...     ...   ...   \n",
       "3000032      94559  22901.0         Nissan              Van    True  2020   \n",
       "3000034      95482  40993.0           Ford     Pickup Truck   False  2017   \n",
       "3000036      94591  36490.0      Chevrolet  SUV / Crossover    True  2020   \n",
       "3000037      94559  12990.0           Jeep            Sedan   False  2016   \n",
       "3000039      94559  19900.0         Nissan  SUV / Crossover   False  2017   \n",
       "\n",
       "        listed_date  \n",
       "0        2019-04-06  \n",
       "1        2020-02-15  \n",
       "2        2017-04-25  \n",
       "3        2020-02-26  \n",
       "4        2020-04-25  \n",
       "...             ...  \n",
       "3000032  2020-07-12  \n",
       "3000034  2020-06-15  \n",
       "3000036  2020-03-25  \n",
       "3000037  2020-06-13  \n",
       "3000039  2020-08-26  \n",
       "\n",
       "[2426855 rows x 7 columns]"
      ]
     },
     "execution_count": 75,
     "metadata": {},
     "output_type": "execute_result"
    }
   ],
   "source": [
    "# Here is our final dataframe, with only the relevant columns that we want to retain. \n",
    "# Unnecessary information has been cut out as we are only interested in the types of cars, \n",
    "# when they were listed, whether the model year newer than 2 years., the make, the price, \n",
    "# and the zip code of the dealership.\n",
    "\n",
    "smaller_cardf"
   ]
  }
 ],
 "metadata": {
  "colab": {
   "provenance": []
  },
  "kernelspec": {
   "display_name": "Python 3 (ipykernel)",
   "language": "python",
   "name": "python3"
  },
  "language_info": {
   "codemirror_mode": {
    "name": "ipython",
    "version": 3
   },
   "file_extension": ".py",
   "mimetype": "text/x-python",
   "name": "python",
   "nbconvert_exporter": "python",
   "pygments_lexer": "ipython3",
   "version": "3.10.8"
  }
 },
 "nbformat": 4,
 "nbformat_minor": 1
}
